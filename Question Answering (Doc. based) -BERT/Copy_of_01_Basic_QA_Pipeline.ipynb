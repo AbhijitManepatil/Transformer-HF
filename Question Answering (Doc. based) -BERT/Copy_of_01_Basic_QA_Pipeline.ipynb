{
  "cells": [
    {
      "cell_type": "markdown",
      "metadata": {
        "id": "view-in-github",
        "colab_type": "text"
      },
      "source": [
        "<a href=\"https://colab.research.google.com/github/AbhijitManepatil/Transformer-HF/blob/main/Question%20Answering%20(Doc.%20based)%20-BERT/Copy_of_01_Basic_QA_Pipeline.ipynb\" target=\"_parent\"><img src=\"https://colab.research.google.com/assets/colab-badge.svg\" alt=\"Open In Colab\"/></a>"
      ]
    },
    {
      "cell_type": "markdown",
      "metadata": {
        "id": "BP8rz40amKCV"
      },
      "source": [
        "# Tutorial: Build Your First Question Answering System\n",
        "\n",
        "> We've modified this first tutorial to make it simpler to start with. If you're looking for a Question Answering tutorial that uses a DocumentStore such as Elasticsearch, go to our new [Build a Scalable Question Answering System](https://haystack.deepset.ai/tutorials/03_scalable_qa_system) tutorial.\n",
        "\n",
        "- **Level**: Beginner\n",
        "- **Time to complete**: 15 minutes\n",
        "- **Nodes Used**: `InMemoryDocumentStore`, `BM25Retriever`, `FARMReader`\n",
        "- **Goal**: After completing this tutorial, you will have learned about the Reader and Retriever, and built a question answering pipeline that can answer questions about the Game of Thrones series.\n"
      ]
    },
    {
      "cell_type": "markdown",
      "metadata": {
        "collapsed": false,
        "id": "LOyBgl_HmKCb"
      },
      "source": [
        "## Overview\n",
        "\n",
        "Learn how to build a question answering system using Haystack's DocumentStore, Retriever, and Reader. Your system will use Game of Thrones files and will be able to answer questions like \"Who is the father of Arya Stark?\". But you can use it to run on any other set of documents, such as your company's internal wikis or a collection of financial reports. \n",
        "\n",
        "To help you get started quicker, we simplified certain steps in this tutorial. For example, Document preparation and pipeline initialization are handled by ready-made classes that replace lines of initialization code. But don't worry! This doesn't affect how well the question answering system performs."
      ]
    },
    {
      "cell_type": "markdown",
      "metadata": {
        "id": "zAIrhxxumKCc"
      },
      "source": [
        "\n",
        "## Preparing the Colab Environment\n",
        "\n",
        "- [Enable GPU Runtime in Colab](https://docs.haystack.deepset.ai/docs/enabling-gpu-acceleration#enabling-the-gpu-in-colab)\n",
        "- [Set logging level to INFO](https://docs.haystack.deepset.ai/docs/log-level)\n"
      ]
    },
    {
      "cell_type": "markdown",
      "metadata": {
        "id": "ggB11ZiXmKCc"
      },
      "source": [
        "## Installing Haystack\n",
        "\n",
        "To start, let's install the latest release of Haystack with `pip`:"
      ]
    },
    {
      "cell_type": "code",
      "execution_count": null,
      "metadata": {
        "id": "zGUPUid2mKCd",
        "outputId": "4e84744c-dbc0-40b6-fbf9-e020098560a6",
        "colab": {
          "base_uri": "https://localhost:8080/"
        }
      },
      "outputs": [
        {
          "output_type": "stream",
          "name": "stdout",
          "text": [
            "Looking in indexes: https://pypi.org/simple, https://us-python.pkg.dev/colab-wheels/public/simple/\n",
            "Requirement already satisfied: pip in /usr/local/lib/python3.9/dist-packages (22.0.4)\n",
            "Collecting pip\n",
            "  Downloading pip-23.0.1-py3-none-any.whl (2.1 MB)\n",
            "     ━━━━━━━━━━━━━━━━━━━━━━━━━━━━━━━━━━━━━━━━ 2.1/2.1 MB 34.9 MB/s eta 0:00:00\n",
            "Installing collected packages: pip\n",
            "  Attempting uninstall: pip\n",
            "    Found existing installation: pip 22.0.4\n",
            "    Uninstalling pip-22.0.4:\n",
            "      Successfully uninstalled pip-22.0.4\n",
            "Successfully installed pip-23.0.1\n",
            "Looking in indexes: https://pypi.org/simple, https://us-python.pkg.dev/colab-wheels/public/simple/\n",
            "Collecting farm-haystack[colab]\n",
            "  Downloading farm_haystack-1.14.0-py3-none-any.whl (640 kB)\n",
            "     ━━━━━━━━━━━━━━━━━━━━━━━━━━━━━━━━━━━━━━ 640.4/640.4 kB 10.8 MB/s eta 0:00:00\n",
            "Collecting tiktoken>=0.1.2\n",
            "  Downloading tiktoken-0.3.0-cp39-cp39-manylinux_2_17_x86_64.manylinux2014_x86_64.whl (1.6 MB)\n",
            "     ━━━━━━━━━━━━━━━━━━━━━━━━━━━━━━━━━━━━━━━━ 1.6/1.6 MB 35.0 MB/s eta 0:00:00\n",
            "Collecting tika\n",
            "  Downloading tika-2.6.0.tar.gz (27 kB)\n",
            "  Preparing metadata (setup.py): started\n",
            "  Preparing metadata (setup.py): finished with status 'done'\n",
            "Collecting dill\n",
            "  Downloading dill-0.3.6-py3-none-any.whl (110 kB)\n",
            "     ━━━━━━━━━━━━━━━━━━━━━━━━━━━━━━━━━━━━━━━ 110.5/110.5 kB 6.1 MB/s eta 0:00:00\n",
            "Collecting transformers[torch]==4.25.1\n",
            "  Downloading transformers-4.25.1-py3-none-any.whl (5.8 MB)\n",
            "     ━━━━━━━━━━━━━━━━━━━━━━━━━━━━━━━━━━━━━━━━ 5.8/5.8 MB 44.3 MB/s eta 0:00:00\n",
            "Collecting langdetect\n",
            "  Downloading langdetect-1.0.9.tar.gz (981 kB)\n",
            "     ━━━━━━━━━━━━━━━━━━━━━━━━━━━━━━━━━━━━━━ 981.5/981.5 kB 27.4 MB/s eta 0:00:00\n",
            "  Preparing metadata (setup.py): started\n",
            "  Preparing metadata (setup.py): finished with status 'done'\n",
            "Requirement already satisfied: pydantic in /usr/local/lib/python3.9/dist-packages (from farm-haystack[colab]) (1.10.5)\n",
            "Collecting rank-bm25\n",
            "  Downloading rank_bm25-0.2.2-py3-none-any.whl (8.6 kB)\n",
            "Collecting python-docx\n",
            "  Downloading python-docx-0.8.11.tar.gz (5.6 MB)\n",
            "     ━━━━━━━━━━━━━━━━━━━━━━━━━━━━━━━━━━━━━━━━ 5.6/5.6 MB 48.1 MB/s eta 0:00:00\n",
            "  Preparing metadata (setup.py): started\n",
            "  Preparing metadata (setup.py): finished with status 'done'\n",
            "Requirement already satisfied: scikit-learn>=1.0.0 in /usr/local/lib/python3.9/dist-packages (from farm-haystack[colab]) (1.2.1)\n",
            "Requirement already satisfied: jsonschema in /usr/local/lib/python3.9/dist-packages (from farm-haystack[colab]) (4.3.3)\n",
            "Collecting huggingface-hub>=0.5.0\n",
            "  Downloading huggingface_hub-0.13.0-py3-none-any.whl (199 kB)\n",
            "     ━━━━━━━━━━━━━━━━━━━━━━━━━━━━━━━━━━━━━━ 199.1/199.1 kB 13.3 MB/s eta 0:00:00\n",
            "Collecting elasticsearch<8,>=7.7\n",
            "  Downloading elasticsearch-7.17.9-py2.py3-none-any.whl (385 kB)\n",
            "     ━━━━━━━━━━━━━━━━━━━━━━━━━━━━━━━━━━━━━━ 386.0/386.0 kB 16.4 MB/s eta 0:00:00\n",
            "Requirement already satisfied: nltk in /usr/local/lib/python3.9/dist-packages (from farm-haystack[colab]) (3.7)\n",
            "Requirement already satisfied: tqdm in /usr/local/lib/python3.9/dist-packages (from farm-haystack[colab]) (4.65.0)\n",
            "Collecting mlflow\n",
            "  Downloading mlflow-2.2.1-py3-none-any.whl (17.6 MB)\n",
            "     ━━━━━━━━━━━━━━━━━━━━━━━━━━━━━━━━━━━━━━━━ 17.6/17.6 MB 17.4 MB/s eta 0:00:00\n",
            "Collecting azure-ai-formrecognizer>=3.2.0b2\n",
            "  Downloading azure_ai_formrecognizer-3.2.1-py3-none-any.whl (228 kB)\n",
            "     ━━━━━━━━━━━━━━━━━━━━━━━━━━━━━━━━━━━━━━ 228.6/228.6 kB 11.6 MB/s eta 0:00:00\n",
            "Requirement already satisfied: pandas in /usr/local/lib/python3.9/dist-packages (from farm-haystack[colab]) (1.3.5)\n",
            "Collecting posthog\n",
            "  Downloading posthog-2.3.1-py2.py3-none-any.whl (34 kB)\n",
            "Requirement already satisfied: scipy>=1.3.2 in /usr/local/lib/python3.9/dist-packages (from farm-haystack[colab]) (1.10.1)\n",
            "Requirement already satisfied: more-itertools in /usr/local/lib/python3.9/dist-packages (from farm-haystack[colab]) (9.1.0)\n",
            "Requirement already satisfied: protobuf<=3.20.2 in /usr/local/lib/python3.9/dist-packages (from farm-haystack[colab]) (3.19.6)\n",
            "Requirement already satisfied: tenacity in /usr/local/lib/python3.9/dist-packages (from farm-haystack[colab]) (8.2.2)\n",
            "Requirement already satisfied: requests in /usr/local/lib/python3.9/dist-packages (from farm-haystack[colab]) (2.25.1)\n",
            "Collecting mmh3\n",
            "  Downloading mmh3-3.0.0-cp39-cp39-manylinux2010_x86_64.whl (49 kB)\n",
            "     ━━━━━━━━━━━━━━━━━━━━━━━━━━━━━━━━━━━━━━━━ 49.3/49.3 kB 4.0 MB/s eta 0:00:00\n",
            "Collecting quantulum3\n",
            "  Downloading quantulum3-0.8.1-py3-none-any.whl (10.7 MB)\n",
            "     ━━━━━━━━━━━━━━━━━━━━━━━━━━━━━━━━━━━━━━━━ 10.7/10.7 MB 59.1 MB/s eta 0:00:00\n",
            "Collecting rapidfuzz<2.8.0,>=2.0.15\n",
            "  Downloading rapidfuzz-2.7.0-cp39-cp39-manylinux_2_17_x86_64.manylinux2014_x86_64.whl (2.1 MB)\n",
            "     ━━━━━━━━━━━━━━━━━━━━━━━━━━━━━━━━━━━━━━━━ 2.1/2.1 MB 36.8 MB/s eta 0:00:00\n",
            "Requirement already satisfied: networkx in /usr/local/lib/python3.9/dist-packages (from farm-haystack[colab]) (3.0)\n",
            "Collecting seqeval\n",
            "  Downloading seqeval-1.2.2.tar.gz (43 kB)\n",
            "     ━━━━━━━━━━━━━━━━━━━━━━━━━━━━━━━━━━━━━━━━ 43.6/43.6 kB 5.0 MB/s eta 0:00:00\n",
            "  Preparing metadata (setup.py): started\n",
            "  Preparing metadata (setup.py): finished with status 'done'\n",
            "Collecting sentence-transformers>=2.2.0\n",
            "  Downloading sentence-transformers-2.2.2.tar.gz (85 kB)\n",
            "     ━━━━━━━━━━━━━━━━━━━━━━━━━━━━━━━━━━━━━━━━ 86.0/86.0 kB 6.9 MB/s eta 0:00:00\n",
            "  Preparing metadata (setup.py): started\n",
            "  Preparing metadata (setup.py): finished with status 'done'\n",
            "Requirement already satisfied: pillow<=9.0.0 in /usr/local/lib/python3.9/dist-packages (from farm-haystack[colab]) (8.4.0)\n",
            "Requirement already satisfied: pyyaml>=5.1 in /usr/local/lib/python3.9/dist-packages (from transformers[torch]==4.25.1->farm-haystack[colab]) (6.0)\n",
            "Requirement already satisfied: packaging>=20.0 in /usr/local/lib/python3.9/dist-packages (from transformers[torch]==4.25.1->farm-haystack[colab]) (23.0)\n",
            "Requirement already satisfied: numpy>=1.17 in /usr/local/lib/python3.9/dist-packages (from transformers[torch]==4.25.1->farm-haystack[colab]) (1.22.4)\n",
            "Requirement already satisfied: filelock in /usr/local/lib/python3.9/dist-packages (from transformers[torch]==4.25.1->farm-haystack[colab]) (3.9.0)\n",
            "Collecting tokenizers!=0.11.3,<0.14,>=0.11.1\n",
            "  Downloading tokenizers-0.13.2-cp39-cp39-manylinux_2_17_x86_64.manylinux2014_x86_64.whl (7.6 MB)\n",
            "     ━━━━━━━━━━━━━━━━━━━━━━━━━━━━━━━━━━━━━━━━ 7.6/7.6 MB 78.7 MB/s eta 0:00:00\n",
            "Requirement already satisfied: regex!=2019.12.17 in /usr/local/lib/python3.9/dist-packages (from transformers[torch]==4.25.1->farm-haystack[colab]) (2022.6.2)\n",
            "Requirement already satisfied: torch!=1.12.0,>=1.7 in /usr/local/lib/python3.9/dist-packages (from transformers[torch]==4.25.1->farm-haystack[colab]) (1.13.1+cu116)\n",
            "Collecting msrest>=0.6.21\n",
            "  Downloading msrest-0.7.1-py3-none-any.whl (85 kB)\n",
            "     ━━━━━━━━━━━━━━━━━━━━━━━━━━━━━━━━━━━━━━━━ 85.4/85.4 kB 11.8 MB/s eta 0:00:00\n",
            "Collecting azure-common~=1.1\n",
            "  Downloading azure_common-1.1.28-py2.py3-none-any.whl (14 kB)\n",
            "Collecting azure-core<2.0.0,>=1.23.0\n",
            "  Downloading azure_core-1.26.3-py3-none-any.whl (174 kB)\n",
            "     ━━━━━━━━━━━━━━━━━━━━━━━━━━━━━━━━━━━━━━ 174.5/174.5 kB 19.9 MB/s eta 0:00:00\n",
            "Requirement already satisfied: typing-extensions>=4.0.1 in /usr/local/lib/python3.9/dist-packages (from azure-ai-formrecognizer>=3.2.0b2->farm-haystack[colab]) (4.5.0)\n",
            "Requirement already satisfied: urllib3<2,>=1.21.1 in /usr/local/lib/python3.9/dist-packages (from elasticsearch<8,>=7.7->farm-haystack[colab]) (1.26.14)\n",
            "Requirement already satisfied: certifi in /usr/local/lib/python3.9/dist-packages (from elasticsearch<8,>=7.7->farm-haystack[colab]) (2022.12.7)\n",
            "Collecting jarowinkler<2.0.0,>=1.2.0\n",
            "  Downloading jarowinkler-1.2.3-cp39-cp39-manylinux_2_17_x86_64.manylinux2014_x86_64.whl (114 kB)\n",
            "     ━━━━━━━━━━━━━━━━━━━━━━━━━━━━━━━━━━━━━━ 114.5/114.5 kB 14.1 MB/s eta 0:00:00\n",
            "Requirement already satisfied: joblib>=1.1.1 in /usr/local/lib/python3.9/dist-packages (from scikit-learn>=1.0.0->farm-haystack[colab]) (1.2.0)\n",
            "Requirement already satisfied: threadpoolctl>=2.0.0 in /usr/local/lib/python3.9/dist-packages (from scikit-learn>=1.0.0->farm-haystack[colab]) (3.1.0)\n",
            "Requirement already satisfied: torchvision in /usr/local/lib/python3.9/dist-packages (from sentence-transformers>=2.2.0->farm-haystack[colab]) (0.14.1+cu116)\n",
            "Collecting sentencepiece\n",
            "  Downloading sentencepiece-0.1.97-cp39-cp39-manylinux_2_17_x86_64.manylinux2014_x86_64.whl (1.3 MB)\n",
            "     ━━━━━━━━━━━━━━━━━━━━━━━━━━━━━━━━━━━━━━━━ 1.3/1.3 MB 68.1 MB/s eta 0:00:00\n",
            "Collecting blobfile>=2\n",
            "  Downloading blobfile-2.0.1-py3-none-any.whl (73 kB)\n",
            "     ━━━━━━━━━━━━━━━━━━━━━━━━━━━━━━━━━━━━━━━━ 73.5/73.5 kB 9.0 MB/s eta 0:00:00\n",
            "Collecting requests\n",
            "  Downloading requests-2.28.2-py3-none-any.whl (62 kB)\n",
            "     ━━━━━━━━━━━━━━━━━━━━━━━━━━━━━━━━━━━━━━━━ 62.8/62.8 kB 7.1 MB/s eta 0:00:00\n",
            "Collecting charset-normalizer<4,>=2\n",
            "  Downloading charset_normalizer-3.1.0-cp39-cp39-manylinux_2_17_x86_64.manylinux2014_x86_64.whl (199 kB)\n",
            "     ━━━━━━━━━━━━━━━━━━━━━━━━━━━━━━━━━━━━━━ 199.2/199.2 kB 21.6 MB/s eta 0:00:00\n",
            "Requirement already satisfied: idna<4,>=2.5 in /usr/local/lib/python3.9/dist-packages (from requests->farm-haystack[colab]) (2.10)\n",
            "Requirement already satisfied: pyrsistent!=0.17.0,!=0.17.1,!=0.17.2,>=0.14.0 in /usr/local/lib/python3.9/dist-packages (from jsonschema->farm-haystack[colab]) (0.19.3)\n",
            "Requirement already satisfied: attrs>=17.4.0 in /usr/local/lib/python3.9/dist-packages (from jsonschema->farm-haystack[colab]) (22.2.0)\n",
            "Requirement already satisfied: six in /usr/local/lib/python3.9/dist-packages (from langdetect->farm-haystack[colab]) (1.15.0)\n",
            "Requirement already satisfied: sqlalchemy<3,>=1.4.0 in /usr/local/lib/python3.9/dist-packages (from mlflow->farm-haystack[colab]) (1.4.46)\n",
            "Requirement already satisfied: sqlparse<1,>=0.4.0 in /usr/local/lib/python3.9/dist-packages (from mlflow->farm-haystack[colab]) (0.4.3)\n",
            "Requirement already satisfied: pyarrow<12,>=4.0.0 in /usr/local/lib/python3.9/dist-packages (from mlflow->farm-haystack[colab]) (9.0.0)\n",
            "Requirement already satisfied: importlib-metadata!=4.7.0,<7,>=3.7.0 in /usr/local/lib/python3.9/dist-packages (from mlflow->farm-haystack[colab]) (6.0.0)\n",
            "Requirement already satisfied: pytz<2023 in /usr/local/lib/python3.9/dist-packages (from mlflow->farm-haystack[colab]) (2022.7.1)\n",
            "Requirement already satisfied: markdown<4,>=3.3 in /usr/local/lib/python3.9/dist-packages (from mlflow->farm-haystack[colab]) (3.4.1)\n",
            "Collecting gitpython<4,>=2.1.0\n",
            "  Downloading GitPython-3.1.31-py3-none-any.whl (184 kB)\n",
            "     ━━━━━━━━━━━━━━━━━━━━━━━━━━━━━━━━━━━━━━ 184.3/184.3 kB 22.6 MB/s eta 0:00:00\n",
            "Collecting shap<1,>=0.40\n",
            "  Downloading shap-0.41.0-cp39-cp39-manylinux_2_12_x86_64.manylinux2010_x86_64.whl (572 kB)\n",
            "     ━━━━━━━━━━━━━━━━━━━━━━━━━━━━━━━━━━━━━━ 572.4/572.4 kB 38.2 MB/s eta 0:00:00\n",
            "Collecting gunicorn<21\n",
            "  Downloading gunicorn-20.1.0-py3-none-any.whl (79 kB)\n",
            "     ━━━━━━━━━━━━━━━━━━━━━━━━━━━━━━━━━━━━━━━━ 79.5/79.5 kB 10.0 MB/s eta 0:00:00\n",
            "Requirement already satisfied: click<9,>=7.0 in /usr/local/lib/python3.9/dist-packages (from mlflow->farm-haystack[colab]) (8.1.3)\n",
            "Collecting querystring-parser<2\n",
            "  Downloading querystring_parser-1.2.4-py2.py3-none-any.whl (7.9 kB)\n",
            "Collecting alembic<2\n",
            "  Downloading alembic-1.10.2-py3-none-any.whl (212 kB)\n",
            "     ━━━━━━━━━━━━━━━━━━━━━━━━━━━━━━━━━━━━━━ 212.2/212.2 kB 23.5 MB/s eta 0:00:00\n",
            "Requirement already satisfied: Jinja2<4,>=2.11 in /usr/local/lib/python3.9/dist-packages (from mlflow->farm-haystack[colab]) (3.1.2)\n",
            "Requirement already satisfied: Flask<3 in /usr/local/lib/python3.9/dist-packages (from mlflow->farm-haystack[colab]) (2.2.3)\n",
            "Requirement already satisfied: cloudpickle<3 in /usr/local/lib/python3.9/dist-packages (from mlflow->farm-haystack[colab]) (2.2.1)\n",
            "Collecting docker<7,>=4.0.0\n",
            "  Downloading docker-6.0.1-py3-none-any.whl (147 kB)\n",
            "     ━━━━━━━━━━━━━━━━━━━━━━━━━━━━━━━━━━━━━━ 147.5/147.5 kB 16.8 MB/s eta 0:00:00\n",
            "Collecting databricks-cli<1,>=0.8.7\n",
            "  Downloading databricks-cli-0.17.4.tar.gz (82 kB)\n",
            "     ━━━━━━━━━━━━━━━━━━━━━━━━━━━━━━━━━━━━━━━━ 82.3/82.3 kB 11.3 MB/s eta 0:00:00\n",
            "  Preparing metadata (setup.py): started\n",
            "  Preparing metadata (setup.py): finished with status 'done'\n",
            "Requirement already satisfied: entrypoints<1 in /usr/local/lib/python3.9/dist-packages (from mlflow->farm-haystack[colab]) (0.4)\n",
            "Requirement already satisfied: matplotlib<4 in /usr/local/lib/python3.9/dist-packages (from mlflow->farm-haystack[colab]) (3.5.3)\n",
            "Requirement already satisfied: python-dateutil>=2.7.3 in /usr/local/lib/python3.9/dist-packages (from pandas->farm-haystack[colab]) (2.8.2)\n",
            "Collecting backoff>=1.10.0\n",
            "  Downloading backoff-2.2.1-py3-none-any.whl (15 kB)\n",
            "Collecting monotonic>=1.5\n",
            "  Downloading monotonic-1.6-py2.py3-none-any.whl (8.2 kB)\n",
            "Requirement already satisfied: lxml>=2.3.2 in /usr/local/lib/python3.9/dist-packages (from python-docx->farm-haystack[colab]) (4.9.2)\n",
            "Collecting num2words\n",
            "  Downloading num2words-0.5.12-py3-none-any.whl (125 kB)\n",
            "     ━━━━━━━━━━━━━━━━━━━━━━━━━━━━━━━━━━━━━━ 125.2/125.2 kB 15.2 MB/s eta 0:00:00\n",
            "Requirement already satisfied: inflect in /usr/local/lib/python3.9/dist-packages (from quantulum3->farm-haystack[colab]) (2.1.0)\n",
            "Requirement already satisfied: setuptools in /usr/local/lib/python3.9/dist-packages (from tika->farm-haystack[colab]) (57.4.0)\n",
            "Collecting Mako\n",
            "  Downloading Mako-1.2.4-py3-none-any.whl (78 kB)\n",
            "     ━━━━━━━━━━━━━━━━━━━━━━━━━━━━━━━━━━━━━━━━ 78.7/78.7 kB 10.8 MB/s eta 0:00:00\n",
            "Collecting pycryptodomex~=3.8\n",
            "  Downloading pycryptodomex-3.17-cp35-abi3-manylinux_2_17_x86_64.manylinux2014_x86_64.whl (2.1 MB)\n",
            "     ━━━━━━━━━━━━━━━━━━━━━━━━━━━━━━━━━━━━━━━━ 2.1/2.1 MB 76.1 MB/s eta 0:00:00\n",
            "Collecting pyjwt>=1.7.0\n",
            "  Downloading PyJWT-2.6.0-py3-none-any.whl (20 kB)\n",
            "Requirement already satisfied: oauthlib>=3.1.0 in /usr/local/lib/python3.9/dist-packages (from databricks-cli<1,>=0.8.7->mlflow->farm-haystack[colab]) (3.2.2)\n",
            "Requirement already satisfied: tabulate>=0.7.7 in /usr/local/lib/python3.9/dist-packages (from databricks-cli<1,>=0.8.7->mlflow->farm-haystack[colab]) (0.8.10)\n",
            "Collecting websocket-client>=0.32.0\n",
            "  Downloading websocket_client-1.5.1-py3-none-any.whl (55 kB)\n",
            "     ━━━━━━━━━━━━━━━━━━━━━━━━━━━━━━━━━━━━━━━━ 55.9/55.9 kB 6.5 MB/s eta 0:00:00\n",
            "Requirement already satisfied: Werkzeug>=2.2.2 in /usr/local/lib/python3.9/dist-packages (from Flask<3->mlflow->farm-haystack[colab]) (2.2.3)\n",
            "Requirement already satisfied: itsdangerous>=2.0 in /usr/local/lib/python3.9/dist-packages (from Flask<3->mlflow->farm-haystack[colab]) (2.1.2)\n",
            "Collecting gitdb<5,>=4.0.1\n",
            "  Downloading gitdb-4.0.10-py3-none-any.whl (62 kB)\n",
            "     ━━━━━━━━━━━━━━━━━━━━━━━━━━━━━━━━━━━━━━━━ 62.7/62.7 kB 8.5 MB/s eta 0:00:00\n",
            "Requirement already satisfied: zipp>=0.5 in /usr/local/lib/python3.9/dist-packages (from importlib-metadata!=4.7.0,<7,>=3.7.0->mlflow->farm-haystack[colab]) (3.15.0)\n",
            "Requirement already satisfied: MarkupSafe>=2.0 in /usr/local/lib/python3.9/dist-packages (from Jinja2<4,>=2.11->mlflow->farm-haystack[colab]) (2.1.2)\n",
            "Requirement already satisfied: fonttools>=4.22.0 in /usr/local/lib/python3.9/dist-packages (from matplotlib<4->mlflow->farm-haystack[colab]) (4.39.0)\n",
            "Requirement already satisfied: cycler>=0.10 in /usr/local/lib/python3.9/dist-packages (from matplotlib<4->mlflow->farm-haystack[colab]) (0.11.0)\n",
            "Requirement already satisfied: kiwisolver>=1.0.1 in /usr/local/lib/python3.9/dist-packages (from matplotlib<4->mlflow->farm-haystack[colab]) (1.4.4)\n",
            "Requirement already satisfied: pyparsing>=2.2.1 in /usr/local/lib/python3.9/dist-packages (from matplotlib<4->mlflow->farm-haystack[colab]) (3.0.9)\n",
            "Collecting isodate>=0.6.0\n",
            "  Downloading isodate-0.6.1-py2.py3-none-any.whl (41 kB)\n",
            "     ━━━━━━━━━━━━━━━━━━━━━━━━━━━━━━━━━━━━━━━━ 41.7/41.7 kB 5.6 MB/s eta 0:00:00\n",
            "Requirement already satisfied: requests-oauthlib>=0.5.0 in /usr/local/lib/python3.9/dist-packages (from msrest>=0.6.21->azure-ai-formrecognizer>=3.2.0b2->farm-haystack[colab]) (1.3.1)\n",
            "Collecting slicer==0.0.7\n",
            "  Downloading slicer-0.0.7-py3-none-any.whl (14 kB)\n",
            "Requirement already satisfied: numba in /usr/local/lib/python3.9/dist-packages (from shap<1,>=0.40->mlflow->farm-haystack[colab]) (0.56.4)\n",
            "Requirement already satisfied: greenlet!=0.4.17 in /usr/local/lib/python3.9/dist-packages (from sqlalchemy<3,>=1.4.0->mlflow->farm-haystack[colab]) (2.0.2)\n",
            "Collecting docopt>=0.6.2\n",
            "  Downloading docopt-0.6.2.tar.gz (25 kB)\n",
            "  Preparing metadata (setup.py): started\n",
            "  Preparing metadata (setup.py): finished with status 'done'\n",
            "Collecting smmap<6,>=3.0.1\n",
            "  Downloading smmap-5.0.0-py3-none-any.whl (24 kB)\n",
            "Requirement already satisfied: llvmlite<0.40,>=0.39.0dev0 in /usr/local/lib/python3.9/dist-packages (from numba->shap<1,>=0.40->mlflow->farm-haystack[colab]) (0.39.1)\n",
            "Building wheels for collected packages: sentence-transformers, langdetect, python-docx, seqeval, tika, databricks-cli, docopt\n",
            "  Building wheel for sentence-transformers (setup.py): started\n",
            "  Building wheel for sentence-transformers (setup.py): finished with status 'done'\n",
            "  Created wheel for sentence-transformers: filename=sentence_transformers-2.2.2-py3-none-any.whl size=125938 sha256=a95a1f1f9f288977a0fb387b036f6950fa21f6b0f8829e3847f0c440cad5cde5\n",
            "  Stored in directory: /root/.cache/pip/wheels/71/67/06/162a3760c40d74dd40bc855d527008d26341c2b0ecf3e8e11f\n",
            "  Building wheel for langdetect (setup.py): started\n",
            "  Building wheel for langdetect (setup.py): finished with status 'done'\n",
            "  Created wheel for langdetect: filename=langdetect-1.0.9-py3-none-any.whl size=993242 sha256=c273ea13a71d72c0006d68202fb97e0b4873675d03ea516ef28d7e9b652c815e\n",
            "  Stored in directory: /root/.cache/pip/wheels/d1/c1/d9/7e068de779d863bc8f8fc9467d85e25cfe47fa5051fff1a1bb\n",
            "  Building wheel for python-docx (setup.py): started\n",
            "  Building wheel for python-docx (setup.py): finished with status 'done'\n",
            "  Created wheel for python-docx: filename=python_docx-0.8.11-py3-none-any.whl size=184505 sha256=dbaab1d082b24181ff7fc878541c0106068814a0581219600df9f7bae7c8a37a\n",
            "  Stored in directory: /root/.cache/pip/wheels/83/8b/7c/09ae60c42c7ba4ed2dddaf2b8b9186cb105255856d6ed3dba5\n",
            "  Building wheel for seqeval (setup.py): started\n",
            "  Building wheel for seqeval (setup.py): finished with status 'done'\n",
            "  Created wheel for seqeval: filename=seqeval-1.2.2-py3-none-any.whl size=16179 sha256=2ac6476967b4e8f244dfba4daddec1e5d8b0b3b31a19fcf94394047f23ef58a9\n",
            "  Stored in directory: /root/.cache/pip/wheels/e2/a5/92/2c80d1928733611c2747a9820e1324a6835524d9411510c142\n",
            "  Building wheel for tika (setup.py): started\n",
            "  Building wheel for tika (setup.py): finished with status 'done'\n",
            "  Created wheel for tika: filename=tika-2.6.0-py3-none-any.whl size=32642 sha256=fd101f7f01140b4c0b08fd23b34ece2b2f0b58caf611a996f93cf4488875a018\n",
            "  Stored in directory: /root/.cache/pip/wheels/13/56/18/e752060632d32c39c9c4545e756dad281f8504dafcfac02b95\n",
            "  Building wheel for databricks-cli (setup.py): started\n",
            "  Building wheel for databricks-cli (setup.py): finished with status 'done'\n",
            "  Created wheel for databricks-cli: filename=databricks_cli-0.17.4-py3-none-any.whl size=142894 sha256=85024789d582f6220ef44f8a1f9a1fe8399d5949c54eea0be407fa93c13b5121\n",
            "  Stored in directory: /root/.cache/pip/wheels/b3/d4/24/ed7f421c3c600f3eee1a3a9e5c4aecc286a7622cac031918b7\n",
            "  Building wheel for docopt (setup.py): started\n",
            "  Building wheel for docopt (setup.py): finished with status 'done'\n",
            "  Created wheel for docopt: filename=docopt-0.6.2-py2.py3-none-any.whl size=13723 sha256=5418053cc19b0868dfa14a8a262eeda420e85e4b6a8c7ac011e7a7e4b95dda6e\n",
            "  Stored in directory: /root/.cache/pip/wheels/70/4a/46/1309fc853b8d395e60bafaf1b6df7845bdd82c95fd59dd8d2b\n",
            "Successfully built sentence-transformers langdetect python-docx seqeval tika databricks-cli docopt\n",
            "Installing collected packages: tokenizers, sentencepiece, monotonic, mmh3, docopt, azure-common, websocket-client, smmap, slicer, rank-bm25, querystring-parser, python-docx, pyjwt, pycryptodomex, num2words, Mako, langdetect, jarowinkler, isodate, gunicorn, elasticsearch, dill, charset-normalizer, backoff, requests, rapidfuzz, quantulum3, gitdb, blobfile, alembic, tiktoken, tika, shap, seqeval, posthog, huggingface-hub, gitpython, docker, databricks-cli, azure-core, transformers, msrest, mlflow, sentence-transformers, azure-ai-formrecognizer, farm-haystack\n",
            "  Attempting uninstall: requests\n",
            "    Found existing installation: requests 2.25.1\n",
            "    Uninstalling requests-2.25.1:\n",
            "      Successfully uninstalled requests-2.25.1\n",
            "Successfully installed Mako-1.2.4 alembic-1.10.2 azure-ai-formrecognizer-3.2.1 azure-common-1.1.28 azure-core-1.26.3 backoff-2.2.1 blobfile-2.0.1 charset-normalizer-3.1.0 databricks-cli-0.17.4 dill-0.3.6 docker-6.0.1 docopt-0.6.2 elasticsearch-7.17.9 farm-haystack-1.14.0 gitdb-4.0.10 gitpython-3.1.31 gunicorn-20.1.0 huggingface-hub-0.13.0 isodate-0.6.1 jarowinkler-1.2.3 langdetect-1.0.9 mlflow-2.2.1 mmh3-3.0.0 monotonic-1.6 msrest-0.7.1 num2words-0.5.12 posthog-2.3.1 pycryptodomex-3.17 pyjwt-2.6.0 python-docx-0.8.11 quantulum3-0.8.1 querystring-parser-1.2.4 rank-bm25-0.2.2 rapidfuzz-2.7.0 requests-2.28.2 sentence-transformers-2.2.2 sentencepiece-0.1.97 seqeval-1.2.2 shap-0.41.0 slicer-0.0.7 smmap-5.0.0 tika-2.6.0 tiktoken-0.3.0 tokenizers-0.13.2 transformers-4.25.1 websocket-client-1.5.1\n"
          ]
        },
        {
          "output_type": "stream",
          "name": "stderr",
          "text": [
            "WARNING: Running pip as the 'root' user can result in broken permissions and conflicting behaviour with the system package manager. It is recommended to use a virtual environment instead: https://pip.pypa.io/warnings/venv\n"
          ]
        }
      ],
      "source": [
        "%%bash\n",
        "\n",
        "pip install --upgrade pip\n",
        "pip install farm-haystack[colab]"
      ]
    },
    {
      "cell_type": "markdown",
      "metadata": {
        "id": "oyFnPGDMmKCe"
      },
      "source": [
        "Set the logging level to INFO:"
      ]
    },
    {
      "cell_type": "code",
      "execution_count": null,
      "metadata": {
        "id": "frGyjal1mKCf"
      },
      "outputs": [],
      "source": [
        "import logging\n",
        "\n",
        "logging.basicConfig(format=\"%(levelname)s - %(name)s -  %(message)s\", level=logging.WARNING)\n",
        "logging.getLogger(\"haystack\").setLevel(logging.INFO)"
      ]
    },
    {
      "cell_type": "markdown",
      "metadata": {
        "id": "h15gFhWVmKCg"
      },
      "source": [
        "## Initializing the DocumentStore\n",
        "\n",
        "We'll start creating our question answering system by initializing a DocumentStore. A DocumentStore stores the Documents that the question answering system uses to find answers to your questions. In this tutorial, we're using the `InMemoryDocumentStore`, which is the simplest DocumentStore to get started with. It requires no external dependencies and it's a good option for smaller projects and debugging. But it doesn't scale up so well to larger Document collections, so it's not a good choice for production systems. To learn more about the DocumentStore and the different types of external databases that we support, see [DocumentStore](https://docs.haystack.deepset.ai/docs/document_store).\n",
        "\n",
        "Let's initialize the the DocumentStore:"
      ]
    },
    {
      "cell_type": "code",
      "execution_count": null,
      "metadata": {
        "id": "f1j1aP9BmKCg",
        "outputId": "f50fd47d-acbf-483e-c3a1-ce7d973e83cd",
        "colab": {
          "base_uri": "https://localhost:8080/"
        }
      },
      "outputs": [
        {
          "output_type": "stream",
          "name": "stderr",
          "text": [
            "INFO:haystack.telemetry:Haystack sends anonymous usage data to understand the actual usage and steer dev efforts towards features that are most meaningful to users. You can opt-out at anytime by calling disable_telemetry() or by manually setting the environment variable  HAYSTACK_TELEMETRY_ENABLED as described for different operating systems on the documentation page. More information at https://docs.haystack.deepset.ai/docs/telemetry\n",
            "INFO:haystack.modeling.utils:Using devices: CPU - Number of GPUs: 0\n"
          ]
        }
      ],
      "source": [
        "from haystack.document_stores import InMemoryDocumentStore\n",
        "\n",
        "document_store = InMemoryDocumentStore(use_bm25=True)"
      ]
    },
    {
      "cell_type": "markdown",
      "metadata": {
        "id": "7zhCZfIOmKCh"
      },
      "source": [
        "The DocumentStore is now ready. Now it's time to fill it with some Documents."
      ]
    },
    {
      "cell_type": "markdown",
      "metadata": {
        "id": "71wAJKPEmKCh"
      },
      "source": [
        "## Preparing Documents\n",
        "\n",
        "1. Download 517 articles from the Game of Thrones Wikipedia. You can find them in *data/build_your_first_question_answering_system* as a set of *.txt* files."
      ]
    },
    {
      "cell_type": "code",
      "execution_count": null,
      "metadata": {
        "id": "8mnYWY-PmKCi"
      },
      "outputs": [],
      "source": [
        "from haystack.utils import fetch_archive_from_http\n",
        "\n",
        "# doc_dir = \"data/build_your_first_question_answering_system\"\n",
        "doc_dir = \"data/MyData\"\n",
        "\n",
        "# fetch_archive_from_http(\n",
        "#     url=\"https://s3.eu-central-1.amazonaws.com/deepset.ai-farm-qa/datasets/documents/wiki_gameofthrones_txt1.zip\",\n",
        "#     output_dir=doc_dir\n",
        "# )"
      ]
    },
    {
      "cell_type": "markdown",
      "metadata": {
        "id": "Rl9LdbJxmKCj"
      },
      "source": [
        "2. Use `TextIndexingPipeline` to convert the files you just downloaded into Haystack [Document objects](https://docs.haystack.deepset.ai/docs/documents_answers_labels#document) and write them into the DocumentStore:"
      ]
    },
    {
      "cell_type": "code",
      "execution_count": 1,
      "metadata": {
        "id": "e4nu-m_EmKCk"
      },
      "outputs": [],
      "source": [
        "# import os\n",
        "# from haystack.pipelines.standard_pipelines import TextIndexingPipeline\n",
        "\n",
        "# files_to_index = [doc_dir + \"/\" + f for f in os.listdir(doc_dir)]\n",
        "# indexing_pipeline = TextIndexingPipeline(document_store)\n",
        "# indexing_pipeline.run_batch(file_paths=files_to_index)\n",
        "\n"
      ]
    },
    {
      "cell_type": "markdown",
      "metadata": {
        "id": "Cnmnxi82mKCk"
      },
      "source": [
        "The code in this tutorial uses the Game of Thrones data, but you can also supply your own *.txt* files and index them in the same way.\n",
        "\n",
        "As an alternative, you can cast you text data into [Document objects](https://docs.haystack.deepset.ai/docs/documents_answers_labels#document) and write them into the DocumentStore using `DocumentStore.write_documents()`."
      ]
    },
    {
      "cell_type": "markdown",
      "metadata": {
        "id": "ChWc747CmKCk"
      },
      "source": [
        "## Initializing the Retriever\n",
        "\n",
        "Our search system will use a Retriever, so we need to initialize it. A Retriever sifts through all the Documents and returns only the ones relevant to the question. This tutorial uses the BM25 algorithm. For more Retriever options, see [Retriever](https://docs.haystack.deepset.ai/docs/retriever).\n",
        "\n",
        "Let's initialize a BM25Retriever and make it use the InMemoryDocumentStore we initialized earlier in this tutorial:"
      ]
    },
    {
      "cell_type": "code",
      "execution_count": null,
      "metadata": {
        "id": "V3vaYSO-mKCl"
      },
      "outputs": [],
      "source": [
        "from haystack.nodes import BM25Retriever\n",
        "\n",
        "retriever = BM25Retriever(document_store=document_store)"
      ]
    },
    {
      "cell_type": "markdown",
      "metadata": {
        "id": "ApdlotktmKCl"
      },
      "source": [
        "The Retriever is ready but we still need to initialize the Reader. "
      ]
    },
    {
      "cell_type": "markdown",
      "metadata": {
        "id": "LAd0FCllmKCl"
      },
      "source": [
        "## Initializing the Reader\n",
        "\n",
        "A Reader scans the texts it received from the Retriever and extracts the top answer candidates. Readers are based on powerful deep learning models but are much slower than Retrievers at processing the same amount of text. In this tutorial, we're using a FARMReader with a base-sized RoBERTa question answering model called [`deepset/roberta-base-squad2`](https://huggingface.co/deepset/roberta-base-squad2). It's a strong all-round model that's good as a starting point. To find the best model for your use case, see [Models](https://haystack.deepset.ai/pipeline_nodes/reader#models).\n",
        "\n",
        "Let's initialize the Reader:"
      ]
    },
    {
      "cell_type": "code",
      "execution_count": null,
      "metadata": {
        "id": "ZzoMRAZ3mKCl",
        "outputId": "a87cccbe-e68f-4732-f877-e2c5ea4c5f29",
        "colab": {
          "base_uri": "https://localhost:8080/"
        }
      },
      "outputs": [
        {
          "output_type": "stream",
          "name": "stderr",
          "text": [
            "INFO:haystack.modeling.utils:Using devices: CPU - Number of GPUs: 0\n",
            "INFO:haystack.modeling.utils:Using devices: CPU - Number of GPUs: 0\n",
            "INFO:haystack.modeling.model.language_model: * LOADING MODEL: 'deepset/roberta-base-squad2' (Roberta)\n",
            "INFO:haystack.modeling.model.language_model:Auto-detected model language: english\n",
            "INFO:haystack.modeling.model.language_model:Loaded 'deepset/roberta-base-squad2' (Roberta model) from model hub.\n",
            "INFO:haystack.modeling.utils:Using devices: CPU - Number of GPUs: 0\n"
          ]
        }
      ],
      "source": [
        "from haystack.nodes import FARMReader\n",
        "\n",
        "reader = FARMReader(model_name_or_path=\"deepset/roberta-base-squad2\", use_gpu=True)"
      ]
    },
    {
      "cell_type": "markdown",
      "metadata": {
        "id": "DJcjpK30mKCm"
      },
      "source": [
        "We've initalized all the components for our pipeline. We're now ready to create the pipeline."
      ]
    },
    {
      "cell_type": "markdown",
      "metadata": {
        "id": "3ywmbwMrmKCm"
      },
      "source": [
        "## Creating the Retriever-Reader Pipeline\n",
        "\n",
        "In this tutorial, we're using a ready-made pipeline called `ExtractiveQAPipeline`. It connects the Reader and the Retriever. The combination of the two speeds up processing because the Reader only processes the Documents that the Retriever has passed on. To learn more about pipelines, see [Pipelines](https://docs.haystack.deepset.ai/docs/pipelines).\n",
        "\n",
        "To create the pipeline, run:"
      ]
    },
    {
      "cell_type": "code",
      "execution_count": null,
      "metadata": {
        "id": "oqgs1CmrmKCm"
      },
      "outputs": [],
      "source": [
        "from haystack.pipelines import ExtractiveQAPipeline\n",
        "\n",
        "pipe = ExtractiveQAPipeline(reader, retriever)"
      ]
    },
    {
      "cell_type": "markdown",
      "metadata": {
        "id": "QbTvc6QemKCn"
      },
      "source": [
        "The pipeline's ready, you can now go ahead and ask a question!"
      ]
    },
    {
      "cell_type": "markdown",
      "metadata": {
        "id": "S2Dd4hucmKCn"
      },
      "source": [
        "## Asking a Question\n",
        "\n",
        "1. Use the pipeline `run()` method to ask a question. The query argument is where you type your question. Additionally, you can set the number of documents you want the Reader and Retriever to return using the `top-k` parameter. To learn more about setting arguments, see [Arguments](https://docs.haystack.deepset.ai/docs/pipelines#arguments). To understand the importance of the `top-k` parameter, see [Choosing the Right top-k Values](https://docs.haystack.deepset.ai/docs/optimization#choosing-the-right-top-k-values)."
      ]
    },
    {
      "cell_type": "code",
      "execution_count": null,
      "metadata": {
        "colab": {
          "base_uri": "https://localhost:8080/",
          "height": 66,
          "referenced_widgets": [
            "ab2d6cd6fef64631b3de6f06e9180b2b",
            "a82ee14f6efd4d66b430f2f3f982a5da",
            "4e3a02a37c7449dfa7fbcaa297babb6a",
            "a97bbd884f1e4951a8ba0e3507b83c88",
            "b5ac407c366a497fa82ef9f7a3b49103",
            "e07629d46b68453a8f3bdf344a1f09d1",
            "13accd16ccb940428cbef9cdd77a83d1",
            "415ec9a4e89e4bbe91bc338d80919a2d",
            "efa65482e9524e8f82a20d3857b42a95",
            "33dfc32a40844a43827826ee7de64135",
            "1a3c33d865884e30b61fc4ea8179e8bf"
          ]
        },
        "id": "YFvVgj4XmKCn",
        "outputId": "236de123-0ba0-496b-e9c7-4af6390e0d2d"
      },
      "outputs": [
        {
          "output_type": "stream",
          "name": "stderr",
          "text": [
            "WARNING:haystack.document_stores.memory:InMemoryDocumentStore does not support scale_score for BM25 retrieval. This parameter is ignored.\n"
          ]
        },
        {
          "output_type": "display_data",
          "data": {
            "text/plain": [
              "Inferencing Samples:   0%|          | 0/1 [00:00<?, ? Batches/s]"
            ],
            "application/vnd.jupyter.widget-view+json": {
              "version_major": 2,
              "version_minor": 0,
              "model_id": "ab2d6cd6fef64631b3de6f06e9180b2b"
            }
          },
          "metadata": {}
        }
      ],
      "source": [
        "prediction = pipe.run(\n",
        "    query=\"what is blockchain\",\n",
        "    params={\n",
        "        \"Retriever\": {\"top_k\": 5},\n",
        "        \"Reader\": {\"top_k\": 5}\n",
        "    }\n",
        ")"
      ]
    },
    {
      "cell_type": "markdown",
      "metadata": {
        "id": "w5JyAvv7mKCn"
      },
      "source": [
        "Here are some questions you could try out:\n",
        "- Who is the father of Arya Stark?\n",
        "- Who created the Dothraki vocabulary?\n",
        "- Who is the sister of Sansa?"
      ]
    },
    {
      "cell_type": "markdown",
      "metadata": {
        "id": "k1061LSkmKCn"
      },
      "source": [
        "2. Print out the answers the pipeline returned:"
      ]
    },
    {
      "cell_type": "code",
      "execution_count": null,
      "metadata": {
        "colab": {
          "base_uri": "https://localhost:8080/"
        },
        "id": "Opaqoj7lmKCn",
        "outputId": "59c19ca3-4acb-4159-e419-88888106a22e"
      },
      "outputs": [
        {
          "output_type": "stream",
          "name": "stdout",
          "text": [
            "{'answers': [<Answer {'answer': 'a mathematical system of record keeping made up of blocks of transactional data which are linked in chronological order', 'type': 'extractive', 'score': 0.6056433916091919, 'context': '- Blockchain is a mathematical system of record keeping made up of blocks of transactional data which are linked in chronological order. Unlike tradit', 'offsets_in_document': [{'start': 471, 'end': 590}], 'offsets_in_context': [{'start': 16, 'end': 135}], 'document_ids': ['7ab34c47c8500acb8594022e01021f53'], 'meta': {'_split_id': 16}}>,\n",
            "             <Answer {'answer': 'a private blockchain that is only available to a closed network of people who are authorized to access it', 'type': 'extractive', 'score': 0.12375418841838837, 'context': 'issioned blockchain is a private blockchain that is only available to a closed network of people who are authorized to access it. This type of blockch', 'offsets_in_document': [{'start': 55, 'end': 160}], 'offsets_in_context': [{'start': 23, 'end': 128}], 'document_ids': ['7f2e72147bfe0d3289d4612a5ca3a818'], 'meta': {'_split_id': 4}}>,\n",
            "             <Answer {'answer': 'Distributed ledger', 'type': 'extractive', 'score': 0.06809458881616592, 'context': 'ry, it can involve and exchange of data or other forms of value.\\n\\nDistributed ledger - A ledger is essentially a chronological record of blockchain tr', 'offsets_in_document': [{'start': 626, 'end': 644}], 'offsets_in_context': [{'start': 66, 'end': 84}], 'document_ids': ['ddbcf8244b6ab380899089459a602bd9'], 'meta': {'_split_id': 17}}>,\n",
            "             <Answer {'answer': 'Consensus - Consensus is the process within blockchain networks to verify that all nodes concur on the contents of the distributed ledger. Using a variety of algorithms, discrepancies that are not consistent with the consensus version of the blockchain are removed. This process is what effectively makes blockchain immutable', 'type': 'extractive', 'score': 0.05264990031719208, 'context': '\\nConsensus - Consensus is the process within blockchain networks to verify that all nodes concur on the contents of the distributed ledger. Using a variety of algorithms, discrepancies that are not consistent with the consensus version of the blockchain are removed. This process is what effectively makes blockchain immutable', 'offsets_in_document': [{'start': 264, 'end': 589}], 'offsets_in_context': [{'start': 1, 'end': 326}], 'document_ids': ['48c936bd5ce3b92b95fe7aa78a50d7eb'], 'meta': {'_split_id': 18}}>,\n",
            "             <Answer {'answer': 'Each entity completing transactions in a blockchain network is assigned an unique alphanumeric address', 'type': 'extractive', 'score': 0.048343509435653687, 'context': ' the ledger.\\n\\nAddress - Each entity completing transactions in a blockchain network is assigned an unique alphanumeric address. The unique address ass', 'offsets_in_document': [{'start': 443, 'end': 545}], 'offsets_in_context': [{'start': 24, 'end': 126}], 'document_ids': ['8affbaffc8311159db4da75d04bf5b49'], 'meta': {'_split_id': 3}}>],\n",
            " 'documents': [<Document: {'content': 'Permissioned Blockchain - A permissioned blockchain is a private blockchain that is only available to a closed network of people who are authorized to access it. This type of blockchain is typically stored on a groups of networked servers.\\n\\nPermissionless Blockchain - A permissionless blockchain is a public blockchain that is available to anyone over the Internet and is stored on a global network of computers.\\n\\nMining - Mining is the process of transaction verification performed by nodes in the blockchain network before adding a new block of data to the blockchain. Private blockchains do not rely on mining and perform verification at the nodes of their private network.\\n\\nConsensus - Consensus is the process within blockchain networks to verify that all nodes concur on the contents of the distributed ledger. Using a variety of algorithms, discrepancies that are not consistent with the consensus version of the blockchain are removed. This process is what effectively makes blockchain immutable. To alter an historical blockchain record requires simultaneously changing the ledger in numerous distributed nodes, defeating the encryption, and overcoming other security measures, making the process extremely difficult.\\n\\n', 'content_type': 'text', 'score': 17.41680505441487, 'meta': {'_split_id': 4}, 'id_hash_keys': ['content'], 'embedding': None, 'id': '7f2e72147bfe0d3289d4612a5ca3a818'}>,\n",
            "               <Document: {'content': 'Mining - Mining is the process of transaction verification performed by nodes in the blockchain network before adding a new block of data to the blockchain. Private blockchains do not rely on mining and perform verification at the nodes of their private network.\\n\\nConsensus - Consensus is the process within blockchain networks to verify that all nodes concur on the contents of the distributed ledger. Using a variety of algorithms, discrepancies that are not consistent with the consensus version of the blockchain are removed. This process is what effectively makes blockchain immutable. To alter an historical blockchain record requires simultaneously changing the ledger in numerous distributed nodes, defeating the encryption, and overcoming other security measures, making the process extremely difficult.\\n\\nSmart Contract - A smart contract is an agreement between two parties which is written into code to execute a blockchain transaction.\\n\\nProvenance - Provenance is a feature of blockchain that can be used for the tracking of the history of an asset using its immutable ledger. ', 'content_type': 'text', 'score': 16.744900756003318, 'meta': {'_split_id': 18}, 'id_hash_keys': ['content'], 'embedding': None, 'id': '48c936bd5ce3b92b95fe7aa78a50d7eb'}>,\n",
            "               <Document: {'content': 'Each node retains a copy of the blockchain ledger and reconciles that version with other nodes to ensure all nodes contain the same version of the ledger.\\n\\nAddress - Each entity completing transactions in a blockchain network is assigned an unique alphanumeric address. The unique address assigned to an entity is used to send transaction to that entity or receive transactions from that entity.\\n\\nTransaction - A transaction is a transfer of value between two addresses, or organizations, using a blockchain network. Although most commonly this value is monetary, it can involve and exchange of data or other forms of value.\\n\\nDistributed ledger - A ledger is essentially a chronological record of blockchain transaction. A distributed ledger stores copies of the ledger on multiple devices, or nodes, in a decentralized network.\\n\\nPermissioned Blockchain - A permissioned blockchain is a private blockchain that is only available to a closed network of people who are authorized to access it. This type of blockchain is typically stored on a groups of networked servers.\\n\\nPermissionless Blockchain - A permissionless blockchain is a public blockchain that is available to anyone over the Internet and is stored on a global network of computers.\\n\\n', 'content_type': 'text', 'score': 14.935204921265013, 'meta': {'_split_id': 17}, 'id_hash_keys': ['content'], 'embedding': None, 'id': 'ddbcf8244b6ab380899089459a602bd9'}>,\n",
            "               <Document: {'content': 'Blockchain Terms You Need to Know\\nAlthough blockchain technology traces its origins back to the start of cryptocurrency, it is now being used for an increasing number of purposes where record keeping is important. As blockchain gains more and more traction outside of the cryptocurrency arena, understanding the technology is becoming increasingly important. To help, the following is a glossary of key terms related to blockchain technology:\\n\\nBlockchain - Blockchain is a mathematical system of record keeping made up of blocks of transactional data which are linked in chronological order. Unlike traditional record keeping which consolidates records in a central location or ledger, blockchain uses a decentralized ledger which stores copies of records on multiple devices or nodes. Because all nodes must have the same version of the ledger, it is very difficult to retroactively change transaction records. The use of distributed ledgers and encryption make blockchain records very difficult to hack, forge or disrupt.\\n\\nBlock - A block is the basic container for storing transaction data within a blockchain.\\n\\nNode - A node is a computing device that is part of a blockchain network. ', 'content_type': 'text', 'score': 14.735811821058102, 'meta': {'_split_id': 16}, 'id_hash_keys': ['content'], 'embedding': None, 'id': '7ab34c47c8500acb8594022e01021f53'}>,\n",
            "               <Document: {'content': 'The use of distributed ledgers and encryption make blockchain records very difficult to hack, forge or disrupt.\\n\\nBlock - A block is the basic container for storing transaction data within a blockchain.\\n\\nNode - A node is a computing device that is part of a blockchain network. Each node retains a copy of the blockchain ledger and reconciles that version with other nodes to ensure all nodes contain the same version of the ledger.\\n\\nAddress - Each entity completing transactions in a blockchain network is assigned an unique alphanumeric address. The unique address assigned to an entity is used to send transaction to that entity or receive transactions from that entity.\\n\\nTransaction - A transaction is a transfer of value between two addresses, or organizations, using a blockchain network. Although most commonly this value is monetary, it can involve and exchange of data or other forms of value.\\n\\nDistributed ledger - A ledger is essentially a chronological record of blockchain transaction. A distributed ledger stores copies of the ledger on multiple devices, or nodes, in a decentralized network.\\n\\n', 'content_type': 'text', 'score': 14.235059395723624, 'meta': {'_split_id': 3}, 'id_hash_keys': ['content'], 'embedding': None, 'id': '8affbaffc8311159db4da75d04bf5b49'}>],\n",
            " 'no_ans_gap': 9.197206974029541,\n",
            " 'node_id': 'Reader',\n",
            " 'params': {'Reader': {'top_k': 5}, 'Retriever': {'top_k': 5}},\n",
            " 'query': 'what is blockchain',\n",
            " 'root_node': 'Query'}\n"
          ]
        }
      ],
      "source": [
        "from pprint import pprint\n",
        "\n",
        "pprint(prediction)"
      ]
    },
    {
      "cell_type": "markdown",
      "metadata": {
        "id": "fhVN6yhqmKCo"
      },
      "source": [
        "3. Simplify the printed answers:"
      ]
    },
    {
      "cell_type": "code",
      "execution_count": null,
      "metadata": {
        "colab": {
          "base_uri": "https://localhost:8080/"
        },
        "id": "DL-8gqGYmKCo",
        "outputId": "6671cba6-1364-4c61-989c-4dfde0587fcb"
      },
      "outputs": [
        {
          "output_type": "stream",
          "name": "stdout",
          "text": [
            "\n",
            "Query: what is blockchain\n",
            "Answers:\n",
            "[   {   'answer': 'a mathematical system of record keeping made up of blocks '\n",
            "                  'of transactional data which are linked in chronological '\n",
            "                  'order',\n",
            "        'context': '- Blockchain is a mathematical system of record keeping '\n",
            "                   'made up of blocks of transactional data which are linked '\n",
            "                   'in chronological order. Unlike tradit'},\n",
            "    {   'answer': 'a private blockchain that is only available to a closed '\n",
            "                  'network of people who are authorized to access it',\n",
            "        'context': 'issioned blockchain is a private blockchain that is only '\n",
            "                   'available to a closed network of people who are authorized '\n",
            "                   'to access it. This type of blockch'},\n",
            "    {   'answer': 'Distributed ledger',\n",
            "        'context': 'ry, it can involve and exchange of data or other forms of '\n",
            "                   'value.\\n'\n",
            "                   '\\n'\n",
            "                   'Distributed ledger - A ledger is essentially a '\n",
            "                   'chronological record of blockchain tr'},\n",
            "    {   'answer': 'Consensus - Consensus is the process within blockchain '\n",
            "                  'networks to verify that all nodes concur on the contents of '\n",
            "                  'the distributed ledger. Using a variety of algorithms, '\n",
            "                  'discrepancies that are not consistent with the consensus '\n",
            "                  'version of the blockchain are removed. This process is what '\n",
            "                  'effectively makes blockchain immutable',\n",
            "        'context': '\\n'\n",
            "                   'Consensus - Consensus is the process within blockchain '\n",
            "                   'networks to verify that all nodes concur on the contents '\n",
            "                   'of the distributed ledger. Using a variety of algorithms, '\n",
            "                   'discrepancies that are not consistent with the consensus '\n",
            "                   'version of the blockchain are removed. This process is '\n",
            "                   'what effectively makes blockchain immutable'},\n",
            "    {   'answer': 'Each entity completing transactions in a blockchain network '\n",
            "                  'is assigned an unique alphanumeric address',\n",
            "        'context': ' the ledger.\\n'\n",
            "                   '\\n'\n",
            "                   'Address - Each entity completing transactions in a '\n",
            "                   'blockchain network is assigned an unique alphanumeric '\n",
            "                   'address. The unique address ass'}]\n"
          ]
        }
      ],
      "source": [
        "from haystack.utils import print_answers\n",
        "\n",
        "print_answers(\n",
        "    prediction,\n",
        "    details=\"minimum\" ## Choose from `minimum`, `medium`, and `all`\n",
        ")"
      ]
    },
    {
      "cell_type": "code",
      "execution_count": null,
      "metadata": {
        "outputId": "59c19ca3-4acb-4159-e419-88888106a22e",
        "colab": {
          "base_uri": "https://localhost:8080/"
        },
        "id": "cXkm57i1vjZI"
      },
      "outputs": [
        {
          "output_type": "stream",
          "name": "stdout",
          "text": [
            "{'answers': [<Answer {'answer': 'a mathematical system of record keeping made up of blocks of transactional data which are linked in chronological order', 'type': 'extractive', 'score': 0.6056433916091919, 'context': '- Blockchain is a mathematical system of record keeping made up of blocks of transactional data which are linked in chronological order. Unlike tradit', 'offsets_in_document': [{'start': 471, 'end': 590}], 'offsets_in_context': [{'start': 16, 'end': 135}], 'document_ids': ['7ab34c47c8500acb8594022e01021f53'], 'meta': {'_split_id': 16}}>,\n",
            "             <Answer {'answer': 'a private blockchain that is only available to a closed network of people who are authorized to access it', 'type': 'extractive', 'score': 0.12375418841838837, 'context': 'issioned blockchain is a private blockchain that is only available to a closed network of people who are authorized to access it. This type of blockch', 'offsets_in_document': [{'start': 55, 'end': 160}], 'offsets_in_context': [{'start': 23, 'end': 128}], 'document_ids': ['7f2e72147bfe0d3289d4612a5ca3a818'], 'meta': {'_split_id': 4}}>,\n",
            "             <Answer {'answer': 'Distributed ledger', 'type': 'extractive', 'score': 0.06809458881616592, 'context': 'ry, it can involve and exchange of data or other forms of value.\\n\\nDistributed ledger - A ledger is essentially a chronological record of blockchain tr', 'offsets_in_document': [{'start': 626, 'end': 644}], 'offsets_in_context': [{'start': 66, 'end': 84}], 'document_ids': ['ddbcf8244b6ab380899089459a602bd9'], 'meta': {'_split_id': 17}}>,\n",
            "             <Answer {'answer': 'Consensus - Consensus is the process within blockchain networks to verify that all nodes concur on the contents of the distributed ledger. Using a variety of algorithms, discrepancies that are not consistent with the consensus version of the blockchain are removed. This process is what effectively makes blockchain immutable', 'type': 'extractive', 'score': 0.05264990031719208, 'context': '\\nConsensus - Consensus is the process within blockchain networks to verify that all nodes concur on the contents of the distributed ledger. Using a variety of algorithms, discrepancies that are not consistent with the consensus version of the blockchain are removed. This process is what effectively makes blockchain immutable', 'offsets_in_document': [{'start': 264, 'end': 589}], 'offsets_in_context': [{'start': 1, 'end': 326}], 'document_ids': ['48c936bd5ce3b92b95fe7aa78a50d7eb'], 'meta': {'_split_id': 18}}>,\n",
            "             <Answer {'answer': 'Each entity completing transactions in a blockchain network is assigned an unique alphanumeric address', 'type': 'extractive', 'score': 0.048343509435653687, 'context': ' the ledger.\\n\\nAddress - Each entity completing transactions in a blockchain network is assigned an unique alphanumeric address. The unique address ass', 'offsets_in_document': [{'start': 443, 'end': 545}], 'offsets_in_context': [{'start': 24, 'end': 126}], 'document_ids': ['8affbaffc8311159db4da75d04bf5b49'], 'meta': {'_split_id': 3}}>],\n",
            " 'documents': [<Document: {'content': 'Permissioned Blockchain - A permissioned blockchain is a private blockchain that is only available to a closed network of people who are authorized to access it. This type of blockchain is typically stored on a groups of networked servers.\\n\\nPermissionless Blockchain - A permissionless blockchain is a public blockchain that is available to anyone over the Internet and is stored on a global network of computers.\\n\\nMining - Mining is the process of transaction verification performed by nodes in the blockchain network before adding a new block of data to the blockchain. Private blockchains do not rely on mining and perform verification at the nodes of their private network.\\n\\nConsensus - Consensus is the process within blockchain networks to verify that all nodes concur on the contents of the distributed ledger. Using a variety of algorithms, discrepancies that are not consistent with the consensus version of the blockchain are removed. This process is what effectively makes blockchain immutable. To alter an historical blockchain record requires simultaneously changing the ledger in numerous distributed nodes, defeating the encryption, and overcoming other security measures, making the process extremely difficult.\\n\\n', 'content_type': 'text', 'score': 17.41680505441487, 'meta': {'_split_id': 4}, 'id_hash_keys': ['content'], 'embedding': None, 'id': '7f2e72147bfe0d3289d4612a5ca3a818'}>,\n",
            "               <Document: {'content': 'Mining - Mining is the process of transaction verification performed by nodes in the blockchain network before adding a new block of data to the blockchain. Private blockchains do not rely on mining and perform verification at the nodes of their private network.\\n\\nConsensus - Consensus is the process within blockchain networks to verify that all nodes concur on the contents of the distributed ledger. Using a variety of algorithms, discrepancies that are not consistent with the consensus version of the blockchain are removed. This process is what effectively makes blockchain immutable. To alter an historical blockchain record requires simultaneously changing the ledger in numerous distributed nodes, defeating the encryption, and overcoming other security measures, making the process extremely difficult.\\n\\nSmart Contract - A smart contract is an agreement between two parties which is written into code to execute a blockchain transaction.\\n\\nProvenance - Provenance is a feature of blockchain that can be used for the tracking of the history of an asset using its immutable ledger. ', 'content_type': 'text', 'score': 16.744900756003318, 'meta': {'_split_id': 18}, 'id_hash_keys': ['content'], 'embedding': None, 'id': '48c936bd5ce3b92b95fe7aa78a50d7eb'}>,\n",
            "               <Document: {'content': 'Each node retains a copy of the blockchain ledger and reconciles that version with other nodes to ensure all nodes contain the same version of the ledger.\\n\\nAddress - Each entity completing transactions in a blockchain network is assigned an unique alphanumeric address. The unique address assigned to an entity is used to send transaction to that entity or receive transactions from that entity.\\n\\nTransaction - A transaction is a transfer of value between two addresses, or organizations, using a blockchain network. Although most commonly this value is monetary, it can involve and exchange of data or other forms of value.\\n\\nDistributed ledger - A ledger is essentially a chronological record of blockchain transaction. A distributed ledger stores copies of the ledger on multiple devices, or nodes, in a decentralized network.\\n\\nPermissioned Blockchain - A permissioned blockchain is a private blockchain that is only available to a closed network of people who are authorized to access it. This type of blockchain is typically stored on a groups of networked servers.\\n\\nPermissionless Blockchain - A permissionless blockchain is a public blockchain that is available to anyone over the Internet and is stored on a global network of computers.\\n\\n', 'content_type': 'text', 'score': 14.935204921265013, 'meta': {'_split_id': 17}, 'id_hash_keys': ['content'], 'embedding': None, 'id': 'ddbcf8244b6ab380899089459a602bd9'}>,\n",
            "               <Document: {'content': 'Blockchain Terms You Need to Know\\nAlthough blockchain technology traces its origins back to the start of cryptocurrency, it is now being used for an increasing number of purposes where record keeping is important. As blockchain gains more and more traction outside of the cryptocurrency arena, understanding the technology is becoming increasingly important. To help, the following is a glossary of key terms related to blockchain technology:\\n\\nBlockchain - Blockchain is a mathematical system of record keeping made up of blocks of transactional data which are linked in chronological order. Unlike traditional record keeping which consolidates records in a central location or ledger, blockchain uses a decentralized ledger which stores copies of records on multiple devices or nodes. Because all nodes must have the same version of the ledger, it is very difficult to retroactively change transaction records. The use of distributed ledgers and encryption make blockchain records very difficult to hack, forge or disrupt.\\n\\nBlock - A block is the basic container for storing transaction data within a blockchain.\\n\\nNode - A node is a computing device that is part of a blockchain network. ', 'content_type': 'text', 'score': 14.735811821058102, 'meta': {'_split_id': 16}, 'id_hash_keys': ['content'], 'embedding': None, 'id': '7ab34c47c8500acb8594022e01021f53'}>,\n",
            "               <Document: {'content': 'The use of distributed ledgers and encryption make blockchain records very difficult to hack, forge or disrupt.\\n\\nBlock - A block is the basic container for storing transaction data within a blockchain.\\n\\nNode - A node is a computing device that is part of a blockchain network. Each node retains a copy of the blockchain ledger and reconciles that version with other nodes to ensure all nodes contain the same version of the ledger.\\n\\nAddress - Each entity completing transactions in a blockchain network is assigned an unique alphanumeric address. The unique address assigned to an entity is used to send transaction to that entity or receive transactions from that entity.\\n\\nTransaction - A transaction is a transfer of value between two addresses, or organizations, using a blockchain network. Although most commonly this value is monetary, it can involve and exchange of data or other forms of value.\\n\\nDistributed ledger - A ledger is essentially a chronological record of blockchain transaction. A distributed ledger stores copies of the ledger on multiple devices, or nodes, in a decentralized network.\\n\\n', 'content_type': 'text', 'score': 14.235059395723624, 'meta': {'_split_id': 3}, 'id_hash_keys': ['content'], 'embedding': None, 'id': '8affbaffc8311159db4da75d04bf5b49'}>],\n",
            " 'no_ans_gap': 9.197206974029541,\n",
            " 'node_id': 'Reader',\n",
            " 'params': {'Reader': {'top_k': 5}, 'Retriever': {'top_k': 5}},\n",
            " 'query': 'what is blockchain',\n",
            " 'root_node': 'Query'}\n"
          ]
        }
      ],
      "source": [
        "from pprint import pprint\n",
        "\n",
        "pprint(prediction)"
      ]
    },
    {
      "cell_type": "code",
      "source": [],
      "metadata": {
        "id": "cMpaJGQhyrMI"
      },
      "execution_count": 1,
      "outputs": []
    },
    {
      "cell_type": "code",
      "source": [
        "\n"
      ],
      "metadata": {
        "id": "WHebbHZFy3lb"
      },
      "execution_count": 2,
      "outputs": []
    },
    {
      "cell_type": "code",
      "source": [
        "\n",
        "\n"
      ],
      "metadata": {
        "id": "6eNN1MzyzCM8"
      },
      "execution_count": 3,
      "outputs": []
    },
    {
      "cell_type": "code",
      "source": [],
      "metadata": {
        "id": "k4mVXlhrzO_d"
      },
      "execution_count": 3,
      "outputs": []
    },
    {
      "cell_type": "code",
      "source": [
        "# TEST 2\n"
      ],
      "metadata": {
        "id": "zBTBn5VAubHE"
      },
      "execution_count": null,
      "outputs": []
    },
    {
      "cell_type": "code",
      "source": [],
      "metadata": {
        "id": "IJfjzVA1ucw9"
      },
      "execution_count": 3,
      "outputs": []
    },
    {
      "cell_type": "code",
      "execution_count": 4,
      "metadata": {
        "id": "rx62SFBgvnA4"
      },
      "outputs": [],
      "source": [
        "\n",
        "\n"
      ]
    },
    {
      "cell_type": "code",
      "source": [],
      "metadata": {
        "id": "3TcwPjCRwIDc"
      },
      "execution_count": 4,
      "outputs": []
    },
    {
      "cell_type": "code",
      "source": [],
      "metadata": {
        "id": "WT5GgJE9wYS5"
      },
      "execution_count": null,
      "outputs": []
    },
    {
      "cell_type": "markdown",
      "metadata": {
        "id": "sY_RseWEmKCo"
      },
      "source": [
        "And there you have it! Congratulations on building your first machine learning based question answering system!"
      ]
    },
    {
      "cell_type": "markdown",
      "metadata": {
        "collapsed": false,
        "id": "k_-NO-0cmKCo"
      },
      "source": [
        "# Next Steps\n",
        "\n",
        "Check out [Build a Scalable Question Answering System](https://haystack.deepset.ai/tutorials/03_scalable_qa_system) to learn how to make a more advanced question answering system that uses an Elasticsearch backed DocumentStore and makes more use of the flexibility that pipelines offer."
      ]
    },
    {
      "cell_type": "markdown",
      "metadata": {
        "id": "rx1jbodpmKCo"
      },
      "source": [
        "## About us\n",
        "\n",
        "This [Haystack](https://github.com/deepset-ai/haystack/) notebook was made with love by [deepset](https://deepset.ai/) in Berlin, Germany\n",
        "\n",
        "We bring NLP to the industry via open source!  \n",
        "Our focus: Industry specific language models & large scale QA systems.  \n",
        "  \n",
        "Some of our other work: \n",
        "- [German BERT](https://deepset.ai/german-bert)\n",
        "- [GermanQuAD and GermanDPR](https://deepset.ai/germanquad)\n",
        "\n",
        "Get in touch:\n",
        "[Twitter](https://twitter.com/deepset_ai) | [LinkedIn](https://www.linkedin.com/company/deepset-ai/) | [Discord](https://haystack.deepset.ai/community) | [GitHub Discussions](https://github.com/deepset-ai/haystack/discussions) | [Website](https://deepset.ai)\n",
        "\n",
        "By the way: [we're hiring!](https://www.deepset.ai/jobs)\n"
      ]
    }
  ],
  "metadata": {
    "kernelspec": {
      "display_name": "Python 3.8.12 ('haystack_py38')",
      "language": "python",
      "name": "python3"
    },
    "language_info": {
      "codemirror_mode": {
        "name": "ipython",
        "version": 3
      },
      "file_extension": ".py",
      "mimetype": "text/x-python",
      "name": "python",
      "nbconvert_exporter": "python",
      "pygments_lexer": "ipython3",
      "version": "3.8.12"
    },
    "vscode": {
      "interpreter": {
        "hash": "85ea2c107d7945555de8e73270cf8a4d668bafec7aac344fa62e3415dc7bf5ec"
      }
    },
    "colab": {
      "provenance": [],
      "include_colab_link": true
    },
    "widgets": {
      "application/vnd.jupyter.widget-state+json": {
        "ab2d6cd6fef64631b3de6f06e9180b2b": {
          "model_module": "@jupyter-widgets/controls",
          "model_name": "HBoxModel",
          "model_module_version": "1.5.0",
          "state": {
            "_dom_classes": [],
            "_model_module": "@jupyter-widgets/controls",
            "_model_module_version": "1.5.0",
            "_model_name": "HBoxModel",
            "_view_count": null,
            "_view_module": "@jupyter-widgets/controls",
            "_view_module_version": "1.5.0",
            "_view_name": "HBoxView",
            "box_style": "",
            "children": [
              "IPY_MODEL_a82ee14f6efd4d66b430f2f3f982a5da",
              "IPY_MODEL_4e3a02a37c7449dfa7fbcaa297babb6a",
              "IPY_MODEL_a97bbd884f1e4951a8ba0e3507b83c88"
            ],
            "layout": "IPY_MODEL_b5ac407c366a497fa82ef9f7a3b49103"
          }
        },
        "a82ee14f6efd4d66b430f2f3f982a5da": {
          "model_module": "@jupyter-widgets/controls",
          "model_name": "HTMLModel",
          "model_module_version": "1.5.0",
          "state": {
            "_dom_classes": [],
            "_model_module": "@jupyter-widgets/controls",
            "_model_module_version": "1.5.0",
            "_model_name": "HTMLModel",
            "_view_count": null,
            "_view_module": "@jupyter-widgets/controls",
            "_view_module_version": "1.5.0",
            "_view_name": "HTMLView",
            "description": "",
            "description_tooltip": null,
            "layout": "IPY_MODEL_e07629d46b68453a8f3bdf344a1f09d1",
            "placeholder": "​",
            "style": "IPY_MODEL_13accd16ccb940428cbef9cdd77a83d1",
            "value": "Inferencing Samples: 100%"
          }
        },
        "4e3a02a37c7449dfa7fbcaa297babb6a": {
          "model_module": "@jupyter-widgets/controls",
          "model_name": "FloatProgressModel",
          "model_module_version": "1.5.0",
          "state": {
            "_dom_classes": [],
            "_model_module": "@jupyter-widgets/controls",
            "_model_module_version": "1.5.0",
            "_model_name": "FloatProgressModel",
            "_view_count": null,
            "_view_module": "@jupyter-widgets/controls",
            "_view_module_version": "1.5.0",
            "_view_name": "ProgressView",
            "bar_style": "success",
            "description": "",
            "description_tooltip": null,
            "layout": "IPY_MODEL_415ec9a4e89e4bbe91bc338d80919a2d",
            "max": 1,
            "min": 0,
            "orientation": "horizontal",
            "style": "IPY_MODEL_efa65482e9524e8f82a20d3857b42a95",
            "value": 1
          }
        },
        "a97bbd884f1e4951a8ba0e3507b83c88": {
          "model_module": "@jupyter-widgets/controls",
          "model_name": "HTMLModel",
          "model_module_version": "1.5.0",
          "state": {
            "_dom_classes": [],
            "_model_module": "@jupyter-widgets/controls",
            "_model_module_version": "1.5.0",
            "_model_name": "HTMLModel",
            "_view_count": null,
            "_view_module": "@jupyter-widgets/controls",
            "_view_module_version": "1.5.0",
            "_view_name": "HTMLView",
            "description": "",
            "description_tooltip": null,
            "layout": "IPY_MODEL_33dfc32a40844a43827826ee7de64135",
            "placeholder": "​",
            "style": "IPY_MODEL_1a3c33d865884e30b61fc4ea8179e8bf",
            "value": " 1/1 [00:04&lt;00:00,  4.94s/ Batches]"
          }
        },
        "b5ac407c366a497fa82ef9f7a3b49103": {
          "model_module": "@jupyter-widgets/base",
          "model_name": "LayoutModel",
          "model_module_version": "1.2.0",
          "state": {
            "_model_module": "@jupyter-widgets/base",
            "_model_module_version": "1.2.0",
            "_model_name": "LayoutModel",
            "_view_count": null,
            "_view_module": "@jupyter-widgets/base",
            "_view_module_version": "1.2.0",
            "_view_name": "LayoutView",
            "align_content": null,
            "align_items": null,
            "align_self": null,
            "border": null,
            "bottom": null,
            "display": null,
            "flex": null,
            "flex_flow": null,
            "grid_area": null,
            "grid_auto_columns": null,
            "grid_auto_flow": null,
            "grid_auto_rows": null,
            "grid_column": null,
            "grid_gap": null,
            "grid_row": null,
            "grid_template_areas": null,
            "grid_template_columns": null,
            "grid_template_rows": null,
            "height": null,
            "justify_content": null,
            "justify_items": null,
            "left": null,
            "margin": null,
            "max_height": null,
            "max_width": null,
            "min_height": null,
            "min_width": null,
            "object_fit": null,
            "object_position": null,
            "order": null,
            "overflow": null,
            "overflow_x": null,
            "overflow_y": null,
            "padding": null,
            "right": null,
            "top": null,
            "visibility": null,
            "width": null
          }
        },
        "e07629d46b68453a8f3bdf344a1f09d1": {
          "model_module": "@jupyter-widgets/base",
          "model_name": "LayoutModel",
          "model_module_version": "1.2.0",
          "state": {
            "_model_module": "@jupyter-widgets/base",
            "_model_module_version": "1.2.0",
            "_model_name": "LayoutModel",
            "_view_count": null,
            "_view_module": "@jupyter-widgets/base",
            "_view_module_version": "1.2.0",
            "_view_name": "LayoutView",
            "align_content": null,
            "align_items": null,
            "align_self": null,
            "border": null,
            "bottom": null,
            "display": null,
            "flex": null,
            "flex_flow": null,
            "grid_area": null,
            "grid_auto_columns": null,
            "grid_auto_flow": null,
            "grid_auto_rows": null,
            "grid_column": null,
            "grid_gap": null,
            "grid_row": null,
            "grid_template_areas": null,
            "grid_template_columns": null,
            "grid_template_rows": null,
            "height": null,
            "justify_content": null,
            "justify_items": null,
            "left": null,
            "margin": null,
            "max_height": null,
            "max_width": null,
            "min_height": null,
            "min_width": null,
            "object_fit": null,
            "object_position": null,
            "order": null,
            "overflow": null,
            "overflow_x": null,
            "overflow_y": null,
            "padding": null,
            "right": null,
            "top": null,
            "visibility": null,
            "width": null
          }
        },
        "13accd16ccb940428cbef9cdd77a83d1": {
          "model_module": "@jupyter-widgets/controls",
          "model_name": "DescriptionStyleModel",
          "model_module_version": "1.5.0",
          "state": {
            "_model_module": "@jupyter-widgets/controls",
            "_model_module_version": "1.5.0",
            "_model_name": "DescriptionStyleModel",
            "_view_count": null,
            "_view_module": "@jupyter-widgets/base",
            "_view_module_version": "1.2.0",
            "_view_name": "StyleView",
            "description_width": ""
          }
        },
        "415ec9a4e89e4bbe91bc338d80919a2d": {
          "model_module": "@jupyter-widgets/base",
          "model_name": "LayoutModel",
          "model_module_version": "1.2.0",
          "state": {
            "_model_module": "@jupyter-widgets/base",
            "_model_module_version": "1.2.0",
            "_model_name": "LayoutModel",
            "_view_count": null,
            "_view_module": "@jupyter-widgets/base",
            "_view_module_version": "1.2.0",
            "_view_name": "LayoutView",
            "align_content": null,
            "align_items": null,
            "align_self": null,
            "border": null,
            "bottom": null,
            "display": null,
            "flex": null,
            "flex_flow": null,
            "grid_area": null,
            "grid_auto_columns": null,
            "grid_auto_flow": null,
            "grid_auto_rows": null,
            "grid_column": null,
            "grid_gap": null,
            "grid_row": null,
            "grid_template_areas": null,
            "grid_template_columns": null,
            "grid_template_rows": null,
            "height": null,
            "justify_content": null,
            "justify_items": null,
            "left": null,
            "margin": null,
            "max_height": null,
            "max_width": null,
            "min_height": null,
            "min_width": null,
            "object_fit": null,
            "object_position": null,
            "order": null,
            "overflow": null,
            "overflow_x": null,
            "overflow_y": null,
            "padding": null,
            "right": null,
            "top": null,
            "visibility": null,
            "width": null
          }
        },
        "efa65482e9524e8f82a20d3857b42a95": {
          "model_module": "@jupyter-widgets/controls",
          "model_name": "ProgressStyleModel",
          "model_module_version": "1.5.0",
          "state": {
            "_model_module": "@jupyter-widgets/controls",
            "_model_module_version": "1.5.0",
            "_model_name": "ProgressStyleModel",
            "_view_count": null,
            "_view_module": "@jupyter-widgets/base",
            "_view_module_version": "1.2.0",
            "_view_name": "StyleView",
            "bar_color": null,
            "description_width": ""
          }
        },
        "33dfc32a40844a43827826ee7de64135": {
          "model_module": "@jupyter-widgets/base",
          "model_name": "LayoutModel",
          "model_module_version": "1.2.0",
          "state": {
            "_model_module": "@jupyter-widgets/base",
            "_model_module_version": "1.2.0",
            "_model_name": "LayoutModel",
            "_view_count": null,
            "_view_module": "@jupyter-widgets/base",
            "_view_module_version": "1.2.0",
            "_view_name": "LayoutView",
            "align_content": null,
            "align_items": null,
            "align_self": null,
            "border": null,
            "bottom": null,
            "display": null,
            "flex": null,
            "flex_flow": null,
            "grid_area": null,
            "grid_auto_columns": null,
            "grid_auto_flow": null,
            "grid_auto_rows": null,
            "grid_column": null,
            "grid_gap": null,
            "grid_row": null,
            "grid_template_areas": null,
            "grid_template_columns": null,
            "grid_template_rows": null,
            "height": null,
            "justify_content": null,
            "justify_items": null,
            "left": null,
            "margin": null,
            "max_height": null,
            "max_width": null,
            "min_height": null,
            "min_width": null,
            "object_fit": null,
            "object_position": null,
            "order": null,
            "overflow": null,
            "overflow_x": null,
            "overflow_y": null,
            "padding": null,
            "right": null,
            "top": null,
            "visibility": null,
            "width": null
          }
        },
        "1a3c33d865884e30b61fc4ea8179e8bf": {
          "model_module": "@jupyter-widgets/controls",
          "model_name": "DescriptionStyleModel",
          "model_module_version": "1.5.0",
          "state": {
            "_model_module": "@jupyter-widgets/controls",
            "_model_module_version": "1.5.0",
            "_model_name": "DescriptionStyleModel",
            "_view_count": null,
            "_view_module": "@jupyter-widgets/base",
            "_view_module_version": "1.2.0",
            "_view_name": "StyleView",
            "description_width": ""
          }
        }
      }
    }
  },
  "nbformat": 4,
  "nbformat_minor": 0
}